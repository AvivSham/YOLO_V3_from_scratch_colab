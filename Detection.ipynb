{
  "nbformat": 4,
  "nbformat_minor": 0,
  "metadata": {
    "colab": {
      "name": "Detection.ipynb",
      "version": "0.3.2",
      "provenance": [],
      "collapsed_sections": [],
      "toc_visible": true,
      "include_colab_link": true
    },
    "kernelspec": {
      "name": "python3",
      "display_name": "Python 3"
    },
    "accelerator": "GPU"
  },
  "cells": [
    {
      "cell_type": "markdown",
      "metadata": {
        "id": "view-in-github",
        "colab_type": "text"
      },
      "source": [
        "[View in Colaboratory](https://colab.research.google.com/github/AvivSham/YOLO_V3_from_scratch_colab/blob/master/Detection.ipynb)"
      ]
    },
    {
      "metadata": {
        "id": "WmCSPOv6h2v6",
        "colab_type": "text"
      },
      "cell_type": "markdown",
      "source": [
        "###Here you need to load darknet & util modules  in addition to the pallete file"
      ]
    },
    {
      "metadata": {
        "id": "F1qykQy3Edqu",
        "colab_type": "code",
        "colab": {}
      },
      "cell_type": "code",
      "source": [
        "#@title Installing PyTorch \n",
        "!pip install torch==0.4\n"
      ],
      "execution_count": 0,
      "outputs": []
    },
    {
      "metadata": {
        "id": "Yc4iHPOPEBeb",
        "colab_type": "code",
        "colab": {}
      },
      "cell_type": "code",
      "source": [
        "#@title Import dependencies\n",
        "from __future__ import division\n",
        "import time\n",
        "import torch \n",
        "import torch.nn as nn\n",
        "from torch.autograd import Variable\n",
        "import numpy as np\n",
        "import cv2 \n",
        "from util import *\n",
        "import argparse\n",
        "import os \n",
        "import os.path as osp\n",
        "from darknet import *\n",
        "import pickle as pkl\n",
        "import pandas as pd\n",
        "import random\n",
        "import csv"
      ],
      "execution_count": 0,
      "outputs": []
    },
    {
      "metadata": {
        "id": "xYqiOI837xpj",
        "colab_type": "code",
        "colab": {}
      },
      "cell_type": "code",
      "source": [
        "#@title Get weights and graph file for the model\n",
        "\n",
        "#Get weights file for the model\n",
        "!wget https://pjreddie.com/media/files/yolov3.weights\n",
        "# Get YOLO graph file\n",
        "!wget https://raw.githubusercontent.com/pjreddie/darknet/master/cfg/yolov3.cfg\n"
      ],
      "execution_count": 0,
      "outputs": []
    },
    {
      "metadata": {
        "id": "KBV3Wr6UUchD",
        "colab_type": "code",
        "colab": {}
      },
      "cell_type": "code",
      "source": [
        "#@title Making directories for test photos\n",
        "!mkdir Images\n",
        "!mkdir Images_Detection"
      ],
      "execution_count": 0,
      "outputs": []
    },
    {
      "metadata": {
        "id": "cLtGYrrQ9RUv",
        "colab_type": "code",
        "colab": {}
      },
      "cell_type": "code",
      "source": [
        "#@title Changing working directory\n",
        "os.chdir(os.getcwd()+'/'+'Images')"
      ],
      "execution_count": 0,
      "outputs": []
    },
    {
      "metadata": {
        "id": "w_12kN_K9LgM",
        "colab_type": "code",
        "colab": {
          "base_uri": "https://localhost:8080/",
          "height": 34
        },
        "outputId": "5b05e903-c777-475c-c245-7bcc70edca3d"
      },
      "cell_type": "code",
      "source": [
        "#@title Test\n",
        "os.getcwd()"
      ],
      "execution_count": 6,
      "outputs": [
        {
          "output_type": "execute_result",
          "data": {
            "text/plain": [
              "'/content/Images'"
            ]
          },
          "metadata": {
            "tags": []
          },
          "execution_count": 6
        }
      ]
    },
    {
      "metadata": {
        "id": "CeiiiiZv7ucK",
        "colab_type": "code",
        "colab": {}
      },
      "cell_type": "code",
      "source": [
        "#@title Get test images\n",
        "!wget https://github.com/ayooshkathuria/pytorch-yolo-v3/raw/master/dog-cycle-car.png\n",
        "!wget https://raw.githubusercontent.com/ayooshkathuria/YOLO_v3_tutorial_from_scratch/master/imgs/giraffe.jpg\n",
        "!wget https://raw.githubusercontent.com/ayooshkathuria/YOLO_v3_tutorial_from_scratch/master/imgs/messi.jpg\n",
        "!wget https://raw.githubusercontent.com/ayooshkathuria/YOLO_v3_tutorial_from_scratch/master/imgs/img1.jpg\n",
        "!wget https://raw.githubusercontent.com/ayooshkathuria/YOLO_v3_tutorial_from_scratch/master/imgs/img2.jpg\n",
        "!wget https://raw.githubusercontent.com/ayooshkathuria/YOLO_v3_tutorial_from_scratch/master/imgs/img3.jpg\n",
        "!wget https://raw.githubusercontent.com/ayooshkathuria/YOLO_v3_tutorial_from_scratch/master/imgs/img4.jpg\n"
      ],
      "execution_count": 0,
      "outputs": []
    },
    {
      "metadata": {
        "id": "X-uPUinE9qIu",
        "colab_type": "code",
        "colab": {}
      },
      "cell_type": "code",
      "source": [
        "%cd ..\n"
      ],
      "execution_count": 0,
      "outputs": []
    },
    {
      "metadata": {
        "id": "WZ4naucbKBna",
        "colab_type": "code",
        "colab": {}
      },
      "cell_type": "code",
      "source": [
        "#@title Setting parameters\n",
        "\n",
        "\n",
        "# images --> Input image / directory of images.\n",
        "# reso   --> Input image resolution\n",
        "# detect_image --> flag to decide to detect video or single photo\n",
        "\n",
        "images = os.getcwd() + '/Images'\n",
        "images_det = os.getcwd() + '/Images_Detection'\n",
        "print(images, images_det)\n",
        "batch_size = 1\n",
        "confidence = 0.5\n",
        "nms_thesh = 0.4\n",
        "reso = 416\n",
        "weights_file = \"yolov3.weights\"\n",
        "config_file = \"yolov3.cfg\"\n",
        "start = 0\n",
        "detect_image = True\n",
        "CUDA = torch.cuda.is_available()"
      ],
      "execution_count": 0,
      "outputs": []
    },
    {
      "metadata": {
        "id": "Wd1xmkVMLyqd",
        "colab_type": "code",
        "colab": {}
      },
      "cell_type": "code",
      "source": [
        "#@title Making directory for COCO names file\n",
        "!mkdir data\n",
        "os.chdir('./data')\n",
        "\n"
      ],
      "execution_count": 0,
      "outputs": []
    },
    {
      "metadata": {
        "id": "rXiVsY_tPb0F",
        "colab_type": "code",
        "colab": {}
      },
      "cell_type": "code",
      "source": [
        "#@title COCO names file\n",
        "!wget https://raw.githubusercontent.com/ayooshkathuria/YOLO_v3_tutorial_from_scratch/master/data/coco.names"
      ],
      "execution_count": 0,
      "outputs": []
    },
    {
      "metadata": {
        "id": "sqLOznoKP9p9",
        "colab_type": "code",
        "colab": {}
      },
      "cell_type": "code",
      "source": [
        "def load_classes(namefile):\n",
        "  fp = open(namefile, 'r')\n",
        "  names = fp.read().split(\"\\n\")[:-1] #discard the last\n",
        "  return names"
      ],
      "execution_count": 0,
      "outputs": []
    },
    {
      "metadata": {
        "id": "zOLR4HS3PiLq",
        "colab_type": "code",
        "colab": {}
      },
      "cell_type": "code",
      "source": [
        "# COCO dataset has 80 different classes\n",
        "num_classes = 80\n",
        "classes = load_classes(\"coco.names\")"
      ],
      "execution_count": 0,
      "outputs": []
    },
    {
      "metadata": {
        "id": "ZWaJb306RCyL",
        "colab_type": "code",
        "colab": {}
      },
      "cell_type": "code",
      "source": [
        "%cd .."
      ],
      "execution_count": 0,
      "outputs": []
    },
    {
      "metadata": {
        "id": "oHdbblKGQc6m",
        "colab_type": "code",
        "colab": {}
      },
      "cell_type": "code",
      "source": [
        "# Set up the network\n",
        "print(\"Loading network...\")\n",
        "model = Darknet(config_file)\n",
        "model.load_weights(weights_file)\n",
        "print(\"Network successfully loaded\")\n",
        "\n",
        "\n",
        "model.net_info[\"height\"] = reso\n",
        "inp_dim = int(model.net_info[\"height\"])\n",
        "assert inp_dim % 32 == 0\n",
        "assert inp_dim > 32\n",
        "\n",
        "\n",
        "def write_box(x, results):\n",
        "    c1 = tuple(x[1:3].int())\n",
        "    c2 = tuple(x[3:5].int())\n",
        "    img = results[int(x[0])]\n",
        "    cls = int(x[-1])\n",
        "    color = random.choice(colors)\n",
        "    label = \"{0}\".format(classes[cls])\n",
        "    cv2.rectangle(img, c1, c2,color, 2)\n",
        "    t_size = cv2.getTextSize(label, cv2.FONT_HERSHEY_PLAIN, 1 , 1)[0]\n",
        "    c2 = c1[0] + t_size[0] + 3, c1[1] + t_size[1] + 4\n",
        "    cv2.rectangle(img, c1, c2,color, -1)\n",
        "    cv2.putText(img, label, (c1[0], c1[1] + t_size[1] + 4), cv2.FONT_HERSHEY_PLAIN, 1, [225,255,255], 1);\n",
        "    return img\n",
        "\n",
        "\n",
        "\n",
        "# if GPU is available allocate the model\n",
        "if CUDA:\n",
        "  model.cuda()\n",
        "  \n",
        "# Set the model in evaluation mode\n",
        "model.eval()\n",
        "\n",
        "if detect_image:\n",
        "  read_dir = time.time()\n",
        "  #Detection phase\n",
        "  try:\n",
        "      imlist = [osp.join(osp.realpath('.'), images, img) for img in os.listdir(images)]\n",
        "  except NotADirectoryError:\n",
        "      imlist = []\n",
        "      imlist.append(osp.join(osp.realpath('.'), images))\n",
        "  except FileNotFoundError:\n",
        "      print (\"No file or directory with the name {}\".format(images))\n",
        "      exit()\n",
        "\n",
        "  if not os.path.exists(images_det):\n",
        "      os.makedirs(images_det)\n",
        "\n",
        "  load_batch = time.time()\n",
        "  loaded_ims = [cv2.imread(x) for x in imlist]\n",
        "\n",
        "  im_batches = list(map(prep_image, loaded_ims, [inp_dim for x in range(len(imlist))]))\n",
        "  im_dim_list = [(x.shape[1], x.shape[0]) for x in loaded_ims]\n",
        "  im_dim_list = torch.FloatTensor(im_dim_list).repeat(1,2)\n",
        "\n",
        "\n",
        "  leftover = 0\n",
        "  if (len(im_dim_list) % batch_size):\n",
        "      leftover = 1\n",
        "\n",
        "  if batch_size != 1:\n",
        "      num_batches = len(imlist) // batch_size + leftover            \n",
        "      im_batches = [torch.cat((im_batches[i*batch_size : min((i +  1)*batch_size,\n",
        "                          len(im_batches))]))  for i in range(num_batches)]  \n",
        "\n",
        "  write = 0\n",
        "\n",
        "\n",
        "  if CUDA:\n",
        "      im_dim_list = im_dim_list.cuda()\n",
        "\n",
        "  start_det_loop = time.time()\n",
        "  for i, batch in enumerate(im_batches):\n",
        "  #load the image \n",
        "      start = time.time()\n",
        "      if CUDA:\n",
        "          batch = batch.cuda()\n",
        "      with torch.no_grad():\n",
        "          prediction = model(Variable(batch), CUDA)\n",
        "\n",
        "      prediction = write_results(prediction, confidence, num_classes, nms_conf = nms_thesh)\n",
        "\n",
        "      end = time.time()\n",
        "\n",
        "      if type(prediction) == int:\n",
        "\n",
        "          for im_num, image in enumerate(imlist[i*batch_size: min((i +  1)*batch_size, len(imlist))]):\n",
        "              im_id = i*batch_size + im_num\n",
        "              print(\"{0:20s} predicted in {1:6.3f} seconds\".format(image.split(\"/\")[-1], (end - start)/batch_size))\n",
        "              print(\"{0:20s} {1:s}\".format(\"Objects Detected:\", \"\"))\n",
        "              print(\"----------------------------------------------------------\")\n",
        "          continue\n",
        "\n",
        "      prediction[:,0] += i*batch_size    #transform the atribute from index in batch to index in imlist \n",
        "\n",
        "      if not write:                      #If we have't initialised output\n",
        "          output = prediction  \n",
        "          write = 1\n",
        "      else:\n",
        "          output = torch.cat((output,prediction))\n",
        "\n",
        "      for im_num, image in enumerate(imlist[i*batch_size: min((i +  1)*batch_size, len(imlist))]):\n",
        "          im_id = i*batch_size + im_num\n",
        "          objs = [classes[int(x[-1])] for x in output if int(x[0]) == im_id]\n",
        "          print(\"{0:20s} predicted in {1:6.3f} seconds\".format(image.split(\"/\")[-1], (end - start)/batch_size))\n",
        "          print(\"{0:20s} {1:s}\".format(\"Objects Detected:\", \" \".join(objs)))\n",
        "          print(\"----------------------------------------------------------\")\n",
        "\n",
        "      if CUDA:\n",
        "          torch.cuda.synchronize()       \n",
        "  try:\n",
        "      output\n",
        "  except NameError:\n",
        "      print (\"No detections were made\")\n",
        "      exit()\n",
        "\n",
        "  im_dim_list = torch.index_select(im_dim_list, 0, output[:,0].long())\n",
        "\n",
        "  scaling_factor = torch.min(416/im_dim_list,1)[0].view(-1,1)\n",
        "\n",
        "\n",
        "  output[:,[1,3]] -= (inp_dim - scaling_factor*im_dim_list[:,0].view(-1,1))/2\n",
        "  output[:,[2,4]] -= (inp_dim - scaling_factor*im_dim_list[:,1].view(-1,1))/2\n",
        "\n",
        "\n",
        "\n",
        "  output[:,1:5] /= scaling_factor\n",
        "\n",
        "  for i in range(output.shape[0]):\n",
        "      output[i, [1,3]] = torch.clamp(output[i, [1,3]], 0.0, im_dim_list[i,0])\n",
        "      output[i, [2,4]] = torch.clamp(output[i, [2,4]], 0.0, im_dim_list[i,1])\n",
        "\n",
        "\n",
        "  output_recast = time.time()\n",
        "  class_load = time.time()\n",
        "  colors = pkl.load(open(\"pallete\", \"rb\"))\n",
        "\n",
        "  draw = time.time()\n",
        "  \n",
        "  list(map(lambda x: write_box(x, loaded_ims), output))\n",
        "\n",
        "  det_names = pd.Series(imlist).apply(lambda x: \"{}/det_{}\".format(images_det,x.split(\"/\")[-1]))\n",
        "\n",
        "  list(map(cv2.imwrite, det_names, loaded_ims))\n",
        "\n",
        "\n",
        "  end = time.time()\n",
        "\n",
        "  print(\"SUMMARY\")\n",
        "  print(\"----------------------------------------------------------\")\n",
        "  print(\"{:25s}: {}\".format(\"Task\", \"Time Taken (in seconds)\"))\n",
        "  print()\n",
        "  print(\"{:25s}: {:2.3f}\".format(\"Reading addresses\", load_batch - read_dir))\n",
        "  print(\"{:25s}: {:2.3f}\".format(\"Loading batch\", start_det_loop - load_batch))\n",
        "  print(\"{:25s}: {:2.3f}\".format(\"Detection (\" + str(len(imlist)) +  \" images)\", output_recast - start_det_loop))\n",
        "  print(\"{:25s}: {:2.3f}\".format(\"Output Processing\", class_load - output_recast))\n",
        "  print(\"{:25s}: {:2.3f}\".format(\"Drawing Boxes\", end - draw))\n",
        "  print(\"{:25s}: {:2.3f}\".format(\"Average time_per_img\", (end - load_batch)/len(imlist)))\n",
        "  print(\"----------------------------------------------------------\")\n",
        "\n",
        "\n",
        "  torch.cuda.empty_cache()\n",
        "\n",
        "else:\n",
        "  #Detection phase\n",
        "  cap = cv2.VideoCapture('Nature.mp4')\n",
        "\n",
        "  #cap = cv2.VideoCapture(0)  for webcam\n",
        "\n",
        "  assert cap.isOpened(), 'Cannot capture source'\n",
        "\n",
        "  frames = 0 \n",
        "  video_detect = []\n",
        "  start = time.time()\n",
        "\n",
        "  while cap.isOpened():\n",
        "      ret, frame = cap.read()\n",
        "\n",
        "      if ret:   \n",
        "          img = prep_image(frame, inp_dim)\n",
        "  #        cv2.imshow(\"a\", frame)\n",
        "          im_dim = frame.shape[1], frame.shape[0]\n",
        "          im_dim = torch.FloatTensor(im_dim).repeat(1,2)   \n",
        "\n",
        "          if CUDA:\n",
        "              im_dim = im_dim.cuda()\n",
        "              img = img.cuda()\n",
        "\n",
        "          with torch.no_grad():\n",
        "              output = model(Variable(img, volatile = True), CUDA)\n",
        "          output = write_results(output, confidence, num_classes, nms_conf = nms_thesh)\n",
        "\n",
        "\n",
        "          if type(output) == int:\n",
        "              frames += 1\n",
        "              #cv2.imshow(\"frame\", frame)\n",
        "              #video_detect.append(frame)\n",
        "              key = cv2.waitKey(1)\n",
        "              if key & 0xFF == ord('q'):\n",
        "                  break\n",
        "              continue\n",
        "\n",
        "          im_dim = im_dim.repeat(output.size(0), 1)\n",
        "          scaling_factor = torch.min(416/im_dim,1)[0].view(-1,1)\n",
        "\n",
        "          output[:,[1,3]] -= (inp_dim - scaling_factor*im_dim[:,0].view(-1,1))/2\n",
        "          output[:,[2,4]] -= (inp_dim - scaling_factor*im_dim[:,1].view(-1,1))/2\n",
        "\n",
        "          output[:,1:5] /= scaling_factor\n",
        "\n",
        "          for i in range(output.shape[0]):\n",
        "              output[i, [1,3]] = torch.clamp(output[i, [1,3]], 0.0, im_dim[i,0])\n",
        "              output[i, [2,4]] = torch.clamp(output[i, [2,4]], 0.0, im_dim[i,1])\n",
        "\n",
        "\n",
        "          classes = load_classes('data/coco.names')\n",
        "          colors = pkl.load(open(\"pallete\", \"rb\"))\n",
        "\n",
        "          list(map(lambda x: write_box(x, frame), output))\n",
        "\n",
        "          video_detect.append(frame)\n",
        "          key = cv2.waitKey(1)\n",
        "          if key & 0xFF == ord('q'):\n",
        "              FPS = frames // (time.time() - start)\n",
        "              break\n",
        "          frames += 1\n",
        "          \n",
        "      else:\n",
        "          FPS = frames // (time.time() - start)\n",
        "          break\n",
        "  "
      ],
      "execution_count": 0,
      "outputs": []
    },
    {
      "metadata": {
        "id": "CPwDa-8HYTDJ",
        "colab_type": "code",
        "colab": {}
      },
      "cell_type": "code",
      "source": [
        "  def write(x, results):\n",
        "      c1 = tuple(x[1:3].int())\n",
        "      c2 = tuple(x[3:5].int())\n",
        "      img = results[int(x[0])]\n",
        "      cls = int(x[-1])\n",
        "      color = random.choice(colors)\n",
        "      label = \"{0}\".format(classes[cls])\n",
        "      cv2.rectangle(img, c1, c2,color, 1)\n",
        "      t_size = cv2.getTextSize(label, cv2.FONT_HERSHEY_PLAIN, 1 , 1)[0]\n",
        "      c2 = c1[0] + t_size[0] + 3, c1[1] + t_size[1] + 4\n",
        "      cv2.rectangle(img, c1, c2,color, -1)\n",
        "      cv2.putText(img, label, (c1[0], c1[1] + t_size[1] + 4), cv2.FONT_HERSHEY_PLAIN, 1, [225,255,255], 1);\n",
        "      return img\n"
      ],
      "execution_count": 0,
      "outputs": []
    },
    {
      "metadata": {
        "id": "rvWsgPRRw6iX",
        "colab_type": "code",
        "colab": {}
      },
      "cell_type": "code",
      "source": [
        "#@title Further work\n",
        "\"\"\"\n",
        "video_detection_save = cv2.VideoWriter('video.avi',-1,20,(416,416))\n",
        "for j in range(frames):\n",
        "  video_detection_save.write(np.asarray(video_detect[j],dtype = np.uint8))\n",
        "  \n",
        "cv2.destroyAllWindows()\n",
        "video_detection_save.release()\n",
        "\"\"\""
      ],
      "execution_count": 0,
      "outputs": []
    }
  ]
}